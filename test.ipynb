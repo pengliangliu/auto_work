{
 "cells": [
  {
   "cell_type": "code",
   "execution_count": 1,
   "metadata": {
    "collapsed": true,
    "pycharm": {
     "name": "#%%\n"
    }
   },
   "outputs": [],
   "source": [
    "import  pandas as pd\n",
    "import numpy as np\n",
    "import matplotlib.pyplot as plt\n",
    "import seaborn as sns\n",
    "import json"
   ]
  },
  {
   "cell_type": "code",
   "execution_count": 3,
   "outputs": [],
   "source": [
    "df=pd.read_csv('T恤识别数据.csv')"
   ],
   "metadata": {
    "collapsed": false,
    "pycharm": {
     "name": "#%%\n"
    }
   }
  },
  {
   "cell_type": "code",
   "execution_count": 11,
   "outputs": [
    {
     "name": "stdout",
     "output_type": "stream",
     "text": [
      "                              union_id  \\\n",
      "3  37_3765448a0e2f958ba3378f9bf236c5ec   \n",
      "4  37_8f1c4896edc210d2a7e4ba15ccf5db73   \n",
      "5  37_8839fefb5f19d61a86f6af61432aa0ee   \n",
      "6  37_542016cf867c0aae8a179f2af7fbfb51   \n",
      "7  37_356a789cc2785559cd8fc075d36b9832   \n",
      "\n",
      "                                                 url  sleeve_type  Gender  \\\n",
      "3  https://zhiyi-image.oss-cn-hangzhou.aliyuncs.c...          NaN     NaN   \n",
      "4  https://zhiyi-image.oss-cn-hangzhou.aliyuncs.c...          NaN     NaN   \n",
      "5  https://zhiyi-image.oss-cn-hangzhou.aliyuncs.c...          NaN     NaN   \n",
      "6  https://zhiyi-image.oss-cn-hangzhou.aliyuncs.c...          NaN     NaN   \n",
      "7  https://zhiyi-image.oss-cn-hangzhou.aliyuncs.c...          NaN     NaN   \n",
      "\n",
      "   Season  Style  Category  Collar  Sleeve  Fabric  Contour  Clothes_length  \\\n",
      "3     NaN    NaN       NaN     NaN     NaN     NaN      NaN             NaN   \n",
      "4     NaN    NaN       NaN     NaN     NaN     NaN      NaN             NaN   \n",
      "5     NaN    NaN       NaN     NaN     NaN     NaN      NaN             NaN   \n",
      "6     NaN    NaN       NaN     NaN     NaN     NaN      NaN             NaN   \n",
      "7     NaN    NaN       NaN     NaN     NaN     NaN      NaN             NaN   \n",
      "\n",
      "   Technology  Texture  accessories  Color                 title  \\\n",
      "3         NaN      NaN          NaN    NaN       空姐日常｜休息日也要美美哒💄💄   \n",
      "4         NaN      NaN          NaN    NaN   OOTD｜我打赌你会从第二张开始心动💓   \n",
      "5         NaN      NaN          NaN    NaN                显白火龙果🌷   \n",
      "6         NaN      NaN          NaN    NaN            让女儿做复刻的自己。   \n",
      "7         NaN      NaN          NaN    NaN  INS🇰🇷】收集一些拍照模版给自己用🍜🍜   \n",
      "\n",
      "                                        introduction  img_hight  img_width  \n",
      "3  休息到商场逛逛\\n人山人海里 我身穿这条香槟金色醋酸裙很显眼\\n回头率杠杠的  搭配这件开衫...       1200        900  \n",
      "4       3分钟快速出门穿搭，每套都超好看，上学通勤都好加分哦[赞R]穿搭  显瘦穿搭  @时尚薯       1514       1136  \n",
      "5         显白还得是火龙果！\\n纯棉面料一整个爱住啦\\n夏天当然要尝试不一样的颜色啦[派对R]        800        800  \n",
      "6                                  ##女童夏季穿搭  #女童连衣裙        2560       1920  \n",
      "7  #大大方方做自己  #你是 #ins博主 #ins博主推荐 #来拍照了 #吃饭拍照 #拍照姿...       1363       1022  \n"
     ]
    }
   ],
   "source": [
    "df = df.iloc[1:, :]\n",
    "print(df.head())"
   ],
   "metadata": {
    "collapsed": false,
    "pycharm": {
     "name": "#%%\n"
    }
   }
  },
  {
   "cell_type": "code",
   "execution_count": 5,
   "outputs": [
    {
     "name": "stdout",
     "output_type": "stream",
     "text": [
      "Index(['union_id', 'url', 'sleeve_type', 'Gender', 'Season', 'Style',\n",
      "       'Category', 'Collar', 'Sleeve', 'Fabric', 'Contour', 'Clothes_length',\n",
      "       'Technology', 'Texture', 'accessories', 'Color', 'title',\n",
      "       'introduction', 'img_hight', 'img_width'],\n",
      "      dtype='object')\n"
     ]
    }
   ],
   "source": [
    "# 打印列名\n",
    "print(df.columns)\n"
   ],
   "metadata": {
    "collapsed": false,
    "pycharm": {
     "name": "#%%\n"
    }
   }
  },
  {
   "cell_type": "code",
   "execution_count": 7,
   "outputs": [],
   "source": [
    "col=['sleeve_type', 'Gender', 'Season', 'Style',\n",
    "       'Category', 'Collar', 'Sleeve', 'Fabric', 'Contour', 'Clothes_length',\n",
    "       'Technology', 'Texture', 'accessories', 'Color']\n"
   ],
   "metadata": {
    "collapsed": false,
    "pycharm": {
     "name": "#%%\n"
    }
   }
  },
  {
   "cell_type": "code",
   "execution_count": 8,
   "outputs": [],
   "source": [
    "# 创建一个二维列表来存储列名和不重复值\n",
    "unique_values_list = []\n",
    "\n",
    "# 遍历每个列名并提取不重复值\n",
    "for column in col:\n",
    "    column_name = column\n",
    "    unique_values = df[column].unique()\n",
    "    unique_values_list.append([column_name, unique_values.tolist()])\n",
    "\n"
   ],
   "metadata": {
    "collapsed": false,
    "pycharm": {
     "name": "#%%\n"
    }
   }
  },
  {
   "cell_type": "code",
   "execution_count": 16,
   "outputs": [],
   "source": [
    "for item in unique_values_list:\n",
    "    item[1].append('其他，请输入')"
   ],
   "metadata": {
    "collapsed": false,
    "pycharm": {
     "name": "#%%\n"
    }
   }
  },
  {
   "cell_type": "code",
   "execution_count": 17,
   "outputs": [],
   "source": [
    "with open('csv_config.json', 'w') as json_file:\n",
    "    json.dump(unique_values_list, json_file, indent=4)\n"
   ],
   "metadata": {
    "collapsed": false,
    "pycharm": {
     "name": "#%%\n"
    }
   }
  },
  {
   "cell_type": "code",
   "execution_count": 12,
   "outputs": [],
   "source": [
    "data=[]\n",
    "with open('csv_config.json', 'r') as json_file:\n",
    "    data = json.load(json_file)\n"
   ],
   "metadata": {
    "collapsed": false,
    "pycharm": {
     "name": "#%%\n"
    }
   }
  },
  {
   "cell_type": "code",
   "execution_count": 23,
   "outputs": [
    {
     "name": "stdout",
     "output_type": "stream",
     "text": [
      "14\n"
     ]
    }
   ],
   "source": [
    "print(len(data))"
   ],
   "metadata": {
    "collapsed": false,
    "pycharm": {
     "name": "#%%\n"
    }
   }
  },
  {
   "cell_type": "code",
   "execution_count": 30,
   "outputs": [
    {
     "name": "stdout",
     "output_type": "stream",
     "text": [
      "gender\n",
      "season\n",
      "style\n",
      "category\n",
      "collar\n",
      "sleeve\n",
      "sleeve_type\n",
      "fabric\n",
      "contour\n",
      "clothes_length\n",
      "technology\n",
      "texture\n",
      "accessories\n"
     ]
    }
   ],
   "source": [
    "for i in range(13):\n",
    "    label=data[i][0]\n",
    "    print(label)"
   ],
   "metadata": {
    "collapsed": false,
    "pycharm": {
     "name": "#%%\n"
    }
   }
  },
  {
   "cell_type": "code",
   "execution_count": 29,
   "outputs": [
    {
     "name": "stdout",
     "output_type": "stream",
     "text": [
      "女装\n"
     ]
    }
   ],
   "source": [
    "for i in range(len(data)-13):\n",
    "    print(data[i][1][0])"
   ],
   "metadata": {
    "collapsed": false,
    "pycharm": {
     "name": "#%%\n"
    }
   }
  },
  {
   "cell_type": "code",
   "execution_count": 34,
   "outputs": [
    {
     "name": "stdout",
     "output_type": "stream",
     "text": [
      "Index: 0, Value: 3\n",
      "Index: 1, Value: 0\n",
      "Index: 2, Value: 0\n",
      "Index: 3, Value: 0\n",
      "Index: 4, Value: 0\n",
      "Index: 5, Value: 0\n",
      "Index: 6, Value: 0\n",
      "Index: 7, Value: 0\n",
      "Index: 8, Value: 0\n",
      "Index: 9, Value: 0\n",
      "Index: 10, Value: 0\n",
      "Index: 11, Value: 0\n",
      "Index: 12, Value: 0\n",
      "Index: 13, Value: 0\n"
     ]
    }
   ],
   "source": [
    "my_list = [3, 0, 0, 0, 0, 0, 0, 0, 0, 0, 0, 0, 0, 0]\n",
    "\n",
    "for index, item in enumerate(my_list):\n",
    "    print(f\"Index: , Value: {item}\")\n"
   ],
   "metadata": {
    "collapsed": false,
    "pycharm": {
     "name": "#%%\n"
    }
   }
  }
 ],
 "metadata": {
  "kernelspec": {
   "display_name": "Python 3",
   "language": "python",
   "name": "python3"
  },
  "language_info": {
   "codemirror_mode": {
    "name": "ipython",
    "version": 2
   },
   "file_extension": ".py",
   "mimetype": "text/x-python",
   "name": "python",
   "nbconvert_exporter": "python",
   "pygments_lexer": "ipython2",
   "version": "2.7.6"
  }
 },
 "nbformat": 4,
 "nbformat_minor": 0
}